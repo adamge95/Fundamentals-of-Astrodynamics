{
 "metadata": {
  "language_info": {
   "codemirror_mode": {
    "name": "ipython",
    "version": 3
   },
   "file_extension": ".py",
   "mimetype": "text/x-python",
   "name": "python",
   "nbconvert_exporter": "python",
   "pygments_lexer": "ipython3",
   "version": "3.7.9-final"
  },
  "orig_nbformat": 2,
  "kernelspec": {
   "name": "python3",
   "display_name": "Python 3"
  }
 },
 "nbformat": 4,
 "nbformat_minor": 2,
 "cells": [
  {
   "source": [
    "## Chapter 1: Two-Body Orbital Mechanics\n",
    "\n",
    "Exercises done in this section: 1.1, 1.2, 1.3, 1.4, 1.5, 1.9"
   ],
   "cell_type": "markdown",
   "metadata": {}
  },
  {
   "cell_type": "code",
   "execution_count": 1,
   "metadata": {},
   "outputs": [],
   "source": [
    "# Importing math and plotting libraries\n",
    "import numpy as np\n",
    "import matplotlib as plt\n"
   ]
  },
  {
   "cell_type": "code",
   "execution_count": 2,
   "metadata": {},
   "outputs": [
    {
     "output_type": "stream",
     "name": "stdout",
     "text": [
      "Specific angular momentum: array([ 0.4, -1.6,  1.2]) DU^2/TU\nTotal specific mechanical energy: -0.1087 DU^2/TU^2\n"
     ]
    }
   ],
   "source": [
    "# Problem 1.1\n",
    "\n",
    "r = [2, 2, 2]\n",
    "v = [-0.4, 0.2, 0.4]\n",
    "\n",
    "h = np.cross(r, v)\n",
    "# Assuming mu is equal to 1\n",
    "e = np.dot(v,v)/2 - 1/np.linalg.norm(r)\n",
    "\n",
    "print(\"Specific angular momentum: %a DU^2/TU\" % h)\n",
    "print(\"Total specific mechanical energy: %.4f DU^2/TU^2\" % e)"
   ]
  },
  {
   "cell_type": "code",
   "execution_count": 3,
   "metadata": {},
   "outputs": [
    {
     "output_type": "stream",
     "name": "stdout",
     "text": [
      "Eccentricity: 1.580\n"
     ]
    }
   ],
   "source": [
    "# Problem 1.2 \n",
    "\n",
    "v = 45000\n",
    "nu = 90\n",
    "mu = 1.407*pow(10,16)\n",
    "# Convert from n. mi to ft (approximated conversion)\n",
    "r = 4000 * 6076\n",
    "\n",
    "# Since nu = 90, p = r according to eq. 1.5-4\n",
    "p = r\n",
    "# We can also calculate h based on eq. 1.5-3\n",
    "h = np.sqrt(r*mu)\n",
    "# Total specific mechanical energy from Eq. 1.4-2\n",
    "energy = pow(v,2)/2 - mu/r\n",
    "# Eccentricity Eq. 1.6-4\n",
    "e = np.sqrt(1+2*energy*pow(h,2)/(pow(mu,2)))\n",
    "print(\"Eccentricity: %.3f\" % e)\n"
   ]
  },
  {
   "cell_type": "code",
   "execution_count": 4,
   "metadata": {},
   "outputs": [
    {
     "output_type": "stream",
     "name": "stdout",
     "text": [
      "Period of the orbit: 164.27 sec\n"
     ]
    }
   ],
   "source": [
    "# Problem 1.3\n",
    "\n",
    "# Convert from n.mi to ft (approximated)\n",
    "rp = 100 * 6076\n",
    "ra = 600 * 6076\n",
    "mu = 1.407 * pow(10,16) # ft^3/s^2\n",
    "\n",
    "a = (rp + ra)/2 # ft\n",
    "\n",
    "TP = 2 * np.pi / np.sqrt(mu) * pow(a, 3/2)\n",
    "print(\"Period of the orbit: %.2f sec\" % TP)\n",
    "\n"
   ]
  },
  {
   "source": [
    "### Problem 1.4\n",
    "\n",
    "The n-body problem for n >= 3 is a chaotic dynamic system for most initialc conditions and no general-form solution exists. For the case of n=3 (three-body problem), for example, the dynamic system is described by a set of 9 second-order differention equations.  \n"
   ],
   "cell_type": "markdown",
   "metadata": {}
  },
  {
   "cell_type": "code",
   "execution_count": 5,
   "metadata": {},
   "outputs": [
    {
     "output_type": "stream",
     "name": "stdout",
     "text": [
      "Perigee: 2.40e+07 ft\nApogee: 3.60e+07 ft\nTotal Specific Energy: -2.34e+08 ft^2/s^2\nSemi-lactus rectum (p): 2.88e+07 ft\nLength at 135: 3.354e+07 ft\n"
     ]
    }
   ],
   "source": [
    "# Problem 1.5\n",
    "\n",
    "a = 30 * pow(10, 6)\n",
    "e = 0.2\n",
    "mu = 1.407 * pow(10,16) # ft^3/s^2\n",
    "\n",
    "# Perigee and apogee\n",
    "rP = a*(1 - e)\n",
    "rA = 2*a - rP\n",
    "\n",
    "print(\"Perigee: %.2e ft\" % rP)\n",
    "print(\"Apogee: %.2e ft\" % rA)\n",
    "\n",
    "\n",
    "# Total specific energy\n",
    "energy = -mu / (2*a)\n",
    "print(\"Total Specific Energy: %.2e ft^2/s^2\" % energy)\n",
    "\n",
    "# Semi-lactus rectum\n",
    "p = rP * (1 + e)\n",
    "print(\"Semi-lactus rectum (p): %.2e ft\" % p)\n",
    "\n",
    "r = p / (1 + e*np.cos(135*np.pi/180))\n",
    "print(\"Length at 135: %.3e ft\" % r)\n"
   ]
  },
  {
   "cell_type": "code",
   "execution_count": 6,
   "metadata": {},
   "outputs": [
    {
     "output_type": "stream",
     "name": "stdout",
     "text": [
      "Velocity: 24617 ft/s\nFlight Path Angle: 59.967 degrees\n"
     ]
    }
   ],
   "source": [
    "# Problem 1.9\n",
    "r_earth = 2.092 * pow(10, 7)\n",
    "r0 = 300000 + r_earth # ft\n",
    "v0 = 25000 # ft/s\n",
    "phi = -60\n",
    "mu = 1.4076 * pow(10,16) # ft^3/s^2\n",
    "# Convert to ft\n",
    "rf = 100 * 6076 + r_earth # ft\n",
    "\n",
    "energy = v0*v0/2 - mu/r0\n",
    "\n",
    "vf = np.sqrt(2*energy + 2*mu/rf)\n",
    "\n",
    "\n",
    "h = r0*v0*np.cos(phi*np.pi/180) \n",
    "cos_phif = h/(rf*24618)\n",
    "phi_f = 180*np.arccos(cos_phif)/np.pi\n",
    "\n",
    "print(\"Velocity: %i ft/s\" % vf)\n",
    "print(\"Flight Path Angle: %.3f degrees\" % phi_f)\n",
    "\n"
   ]
  },
  {
   "cell_type": "code",
   "execution_count": null,
   "metadata": {},
   "outputs": [],
   "source": []
  }
 ]
}