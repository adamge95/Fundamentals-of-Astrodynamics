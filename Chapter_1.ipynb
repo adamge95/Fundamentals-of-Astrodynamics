{
 "metadata": {
  "language_info": {
   "codemirror_mode": {
    "name": "ipython",
    "version": 3
   },
   "file_extension": ".py",
   "mimetype": "text/x-python",
   "name": "python",
   "nbconvert_exporter": "python",
   "pygments_lexer": "ipython3",
   "version": "3.7.9-final"
  },
  "orig_nbformat": 2,
  "kernelspec": {
   "name": "python3",
   "display_name": "Python 3"
  }
 },
 "nbformat": 4,
 "nbformat_minor": 2,
 "cells": [
  {
   "source": [
    "## Chapter 1: Two-Body Orbital Mechanics\n",
    "\n",
    "Exercises done in this section: "
   ],
   "cell_type": "markdown",
   "metadata": {}
  },
  {
   "cell_type": "code",
   "execution_count": 1,
   "metadata": {},
   "outputs": [],
   "source": [
    "# Importing math and plotting libraries\n",
    "import numpy as np\n",
    "import matplotlib as plt\n"
   ]
  },
  {
   "cell_type": "code",
   "execution_count": 15,
   "metadata": {},
   "outputs": [
    {
     "output_type": "stream",
     "name": "stdout",
     "text": [
      "Specific angular momentum: array([ 0.4, -1.6,  1.2]) DU^2/TU\nTotal specific mechanical energy: -0.1087 DU^2/TU^2\n"
     ]
    }
   ],
   "source": [
    "# Problem 1.1\n",
    "\n",
    "r = [2, 2, 2]\n",
    "v = [-0.4, 0.2, 0.4]\n",
    "\n",
    "h = np.cross(r, v)\n",
    "# Assuming mu is equal to 1\n",
    "e = np.dot(v,v)/2 - 1/np.linalg.norm(r)\n",
    "\n",
    "print(\"Specific angular momentum: %a DU^2/TU\" % h)\n",
    "print(\"Total specific mechanical energy: %.4f DU^2/TU^2\" % e)"
   ]
  },
  {
   "cell_type": "code",
   "execution_count": null,
   "metadata": {},
   "outputs": [],
   "source": [
    "# Problem 1.2 \n",
    "\n"
   ]
  }
 ]
}